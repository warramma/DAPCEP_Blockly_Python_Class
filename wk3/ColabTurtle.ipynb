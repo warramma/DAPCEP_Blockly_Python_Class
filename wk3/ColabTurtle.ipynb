{
  "nbformat": 4,
  "nbformat_minor": 0,
  "metadata": {
    "colab": {
      "provenance": []
    },
    "kernelspec": {
      "name": "python3",
      "display_name": "Python 3"
    },
    "language_info": {
      "name": "python"
    }
  },
  "cells": [
    {
      "cell_type": "markdown",
      "source": [
        "To recreate **Turtle** in Python using Google Colab, we can import the turtle library 😀\n",
        "\n",
        "We'll use a special version of turtle, **ColabTurtle** for Google Colab.\n",
        "\n",
        "Run the install in the code block below ⬇"
      ],
      "metadata": {
        "id": "7mPxrX_vW4n_"
      }
    },
    {
      "cell_type": "code",
      "execution_count": null,
      "metadata": {
        "id": "6XK_H12-WtRJ"
      },
      "outputs": [],
      "source": [
        "!pip install ColabTurtle"
      ]
    },
    {
      "cell_type": "markdown",
      "source": [
        "Awesome!\n",
        "\n",
        "Now, run the code block below! Watch the turtle 🐢😍\n",
        "\n",
        "Play around with the settings and try to make different size squares!\n",
        "\n",
        "See if you can figure out how to make different shapes with Python!"
      ],
      "metadata": {
        "id": "cqr2c5mqXGMm"
      }
    },
    {
      "cell_type": "code",
      "source": [
        "from ColabTurtle.Turtle import *\n",
        "\n",
        "# Initialize the turtle environment\n",
        "initializeTurtle()\n",
        "\n",
        "# canvas background color\n",
        "bgcolor(\"lightblue\")\n",
        "\n",
        "# Change the pen color and size\n",
        "color(\"red\")\n",
        "width(3)\n",
        "\n",
        "# Draw your square :)\n",
        "for _ in range(4):\n",
        "    forward(100)\n",
        "    right(90)"
      ],
      "metadata": {
        "id": "LTqe4rryXEDO"
      },
      "execution_count": null,
      "outputs": []
    }
  ]
}